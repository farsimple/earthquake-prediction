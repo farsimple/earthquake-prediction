{
 "cells": [
  {
   "cell_type": "markdown",
   "source": [
    "```\n",
    "                           ___\n",
    "                          /\\_ \\         CS-C3240: Machine Learning\n",
    "    __     __     ___ ___ \\//\\ \\        Student Project\n",
    "  /'__`\\ /'__`\\ /' __` __`\\ \\ \\ \\       Predicting Earthquake Magnitudes\n",
    " /\\  __//\\ \\L\\ \\/\\ \\/\\ \\/\\ \\ \\_\\ \\_\n",
    " \\ \\____\\ \\___, \\ \\_\\ \\_\\ \\_\\/\\____\\    Copyright (c) 2021 Sinan Inel\n",
    "  \\/____/\\/___/\\ \\/_/\\/_/\\/_/\\/____/    All rights reserved.\n",
    "                \\ \\_\\\n",
    "                 \\/_/\n",
    "```"
   ],
   "metadata": {
    "collapsed": false,
    "pycharm": {
     "name": "#%% md\n"
    }
   }
  },
  {
   "cell_type": "code",
   "execution_count": 1,
   "outputs": [
    {
     "name": "stdout",
     "output_type": "stream",
     "text": [
      "2021-02-27 22:56:59,097:INFO:eqml.catalog.Catalog:load_faults:Completed loading 16121 active faults from GEM database.\n",
      "2021-02-27 22:56:59,141:INFO:eqml.catalog:stop:Loaded faults in 5.489 seconds.\n",
      "2021-02-27 22:57:00,935:INFO:eqml.catalog.Catalog:save_faults:Saved 16121 active faults to /Users/sinaninel/Library/Mobile Documents/com~apple~CloudDocs/work/dev/eqml/data/faults.csv.\n",
      "2021-02-27 22:57:06,185:INFO:eqml.catalog.Catalog:load_earthquakes:Completed loading 451846 earthquakes into catalog.\n",
      "2021-02-27 22:57:06,191:INFO:eqml.catalog:stop:Loaded earthquakes in 5.255 seconds.\n",
      "2021-02-27 23:37:50,373:INFO:eqml.catalog:stop:Added fault information in 2444.233 seconds.\n",
      "2021-02-27 23:37:52,258:INFO:eqml.catalog.Catalog:save_earthquakes:Saved 451846 earthquakes to /Users/sinaninel/Library/Mobile Documents/com~apple~CloudDocs/work/dev/eqml/data/earthquakes.csv.\n"
     ]
    }
   ],
   "source": [
    "import plotly.graph_objects as go\n",
    "\n",
    "from eqml.catalog import Catalog\n",
    "\n",
    "catalog = Catalog()"
   ],
   "metadata": {
    "collapsed": false,
    "pycharm": {
     "name": "#%%\n"
    }
   }
  },
  {
   "cell_type": "code",
   "execution_count": null,
   "outputs": [],
   "source": [
    "earthquakes = catalog.filter_by_datetime(\"2000-12-01\", \"2001-01-01\")\n",
    "catalog.plot_earthquake_map(earthquakes)"
   ],
   "metadata": {
    "collapsed": false,
    "pycharm": {
     "name": "#%%\n"
    }
   }
  },
  {
   "cell_type": "code",
   "execution_count": null,
   "outputs": [],
   "source": [
    "fig = go.Figure(data=go.Scatter(x=data[\"FaultDistance\"], y=data[\"Magnitude\"], mode=\"markers\"))\n",
    "fig.show()"
   ],
   "metadata": {
    "collapsed": false,
    "pycharm": {
     "name": "#%%\n"
    }
   }
  }
 ],
 "metadata": {
  "kernelspec": {
   "display_name": "Python 3",
   "language": "python",
   "name": "python3"
  },
  "language_info": {
   "codemirror_mode": {
    "name": "ipython",
    "version": 3
   },
   "file_extension": ".py",
   "mimetype": "text/x-python",
   "name": "python",
   "nbconvert_exporter": "python",
   "pygments_lexer": "ipython3",
   "version": "3.7.6"
  }
 },
 "nbformat": 4,
 "nbformat_minor": 4
}